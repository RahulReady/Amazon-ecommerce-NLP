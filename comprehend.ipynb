{
 "cells": [
  {
   "cell_type": "markdown",
   "metadata": {},
   "source": [
    "# Amazon Comprehend\n",
    "\n",
    "## What is Amazon Comprehend?\n",
    "\n",
    "Amazon comprehend is one of the many AI tools that AWS offers. This one is specifically designed for Natural language processing, and we can divide it's capabilities into 2 categories:\n",
    "\n",
    "- On one side we have the **prebuilt models**, which are tools that allow you to send text over a request and directly get insights with no training.\n",
    "\n",
    "- On the other side we have **custom classifiers**. If you aim to classify text with a certain label, you can build your own classifier from training data easily.\n",
    "\n",
    "\n",
    "\n",
    "## Prebuilt Model Capabilities\n",
    "\n",
    "You can extract valuable information and insights. These can be divided into the following categories:\n",
    "\n",
    "- Entities: list of entities, such as people, places, and locations, identified in a document.\n",
    "\n",
    "- Key phrases: comprehend extracts key phrases that appear in a document. For example, a document about a basketball game might return the names of the teams, the name of the venue, and the final score.\n",
    "\n",
    "- Language - Amazon Comprehend identifies the dominant language in a document. It can identify 100 languages.\n",
    "\n",
    "- Sentiment - Amazon Comprehend determines the emotional sentiment of a document. Sentiment can be positive, neutral, negative, or mixed. *This is prebuilt tool we are going to use through the project.*\n",
    "\n",
    "- Syntax - Amazon Comprehend parses each word in your document and determines the part of speech for the word. For example, in the sentence \"It is raining today in Seattle,\" \"it\" is identified as a pronoun, \"raining\" is identified as a verb, and \"Seattle\" is identified as a proper noun.\n",
    "\n",
    "- Document clustering or topic modeling: examine documents to organize them based on similar keywords within them.\n",
    "\n",
    "Source: https://docs.aws.amazon.com/comprehend/latest/dg/what-is.html \n"
   ]
  },
  {
   "cell_type": "code",
   "execution_count": 11,
   "metadata": {},
   "outputs": [],
   "source": [
    "import boto3\n",
    "import json\n",
    "import pandas as pd\n",
    "import numpy as np\n",
    "import io\n",
    "import csv\n",
    "from sklearn.model_selection import train_test_split"
   ]
  },
  {
   "cell_type": "code",
   "execution_count": 2,
   "metadata": {},
   "outputs": [],
   "source": [
    "s3_client = boto3.client('s3')\n",
    "bucket = 'sagemaker-studio-197812454142-1pz1d5gxfcv'"
   ]
  },
  {
   "cell_type": "code",
   "execution_count": 3,
   "metadata": {},
   "outputs": [],
   "source": [
    "# Load comprehend tool\n",
    "# Remember to attach policy \"ComprehendFullAccess\" in IAM role \n",
    "comprehend = boto3.client(service_name='comprehend', region_name='us-east-1')\n",
    "\n",
    "# Helper function to apply in pd dataframe\n",
    "def getComprehendSentiment(text):\n",
    "    result = comprehend.detect_sentiment(Text=text, LanguageCode='en')[\"Sentiment\"]\n",
    "    \n",
    "    if result == \"NEGATIVE\":\n",
    "        return 1\n",
    "    elif result == \"POSITIVE\":\n",
    "        return 2\n",
    "    #else MIXED OR NEUTRAL\n",
    "    return 3\n",
    "\n",
    "def getDataframeFromS3(file_name, names):\n",
    "    # Load from S3 boto client\n",
    "    response = s3_client.get_object(Bucket=bucket ,Key=file_name)\n",
    "    # Get file from request\n",
    "    file = response[\"Body\"].read()\n",
    "    # Load into pandas\n",
    "    return pd.read_csv(io.BytesIO(file), names=names)\n",
    "    "
   ]
  },
  {
   "cell_type": "markdown",
   "metadata": {},
   "source": [
    "# S3 Load"
   ]
  },
  {
   "cell_type": "code",
   "execution_count": 5,
   "metadata": {},
   "outputs": [],
   "source": [
    "file_name = 'test.csv'\n",
    "names=[\"label\", \"title\", \"review\"]\n",
    "data_test = getDataframeFromS3(file_name = file_name, names = names)"
   ]
  },
  {
   "cell_type": "code",
   "execution_count": 24,
   "metadata": {},
   "outputs": [
    {
     "data": {
      "text/html": [
       "<div>\n",
       "<style scoped>\n",
       "    .dataframe tbody tr th:only-of-type {\n",
       "        vertical-align: middle;\n",
       "    }\n",
       "\n",
       "    .dataframe tbody tr th {\n",
       "        vertical-align: top;\n",
       "    }\n",
       "\n",
       "    .dataframe thead th {\n",
       "        text-align: right;\n",
       "    }\n",
       "</style>\n",
       "<table border=\"1\" class=\"dataframe\">\n",
       "  <thead>\n",
       "    <tr style=\"text-align: right;\">\n",
       "      <th></th>\n",
       "      <th>label</th>\n",
       "      <th>title</th>\n",
       "      <th>review</th>\n",
       "      <th>predicted</th>\n",
       "      <th>incorrect</th>\n",
       "    </tr>\n",
       "  </thead>\n",
       "  <tbody>\n",
       "    <tr>\n",
       "      <th>0</th>\n",
       "      <td>2</td>\n",
       "      <td>Great CD</td>\n",
       "      <td>My lovely Pat has one of the GREAT voices of h...</td>\n",
       "      <td>None</td>\n",
       "      <td>1</td>\n",
       "    </tr>\n",
       "    <tr>\n",
       "      <th>1</th>\n",
       "      <td>2</td>\n",
       "      <td>One of the best game music soundtracks - for a...</td>\n",
       "      <td>Despite the fact that I have only played a sma...</td>\n",
       "      <td>None</td>\n",
       "      <td>1</td>\n",
       "    </tr>\n",
       "    <tr>\n",
       "      <th>2</th>\n",
       "      <td>1</td>\n",
       "      <td>Batteries died within a year ...</td>\n",
       "      <td>I bought this charger in Jul 2003 and it worke...</td>\n",
       "      <td>None</td>\n",
       "      <td>1</td>\n",
       "    </tr>\n",
       "    <tr>\n",
       "      <th>3</th>\n",
       "      <td>2</td>\n",
       "      <td>works fine, but Maha Energy is better</td>\n",
       "      <td>Check out Maha Energy's website. Their Powerex...</td>\n",
       "      <td>None</td>\n",
       "      <td>1</td>\n",
       "    </tr>\n",
       "    <tr>\n",
       "      <th>4</th>\n",
       "      <td>2</td>\n",
       "      <td>Great for the non-audiophile</td>\n",
       "      <td>Reviewed quite a bit of the combo players and ...</td>\n",
       "      <td>None</td>\n",
       "      <td>1</td>\n",
       "    </tr>\n",
       "  </tbody>\n",
       "</table>\n",
       "</div>"
      ],
      "text/plain": [
       "   label                                              title  \\\n",
       "0      2                                           Great CD   \n",
       "1      2  One of the best game music soundtracks - for a...   \n",
       "2      1                   Batteries died within a year ...   \n",
       "3      2              works fine, but Maha Energy is better   \n",
       "4      2                       Great for the non-audiophile   \n",
       "\n",
       "                                              review predicted  incorrect  \n",
       "0  My lovely Pat has one of the GREAT voices of h...      None          1  \n",
       "1  Despite the fact that I have only played a sma...      None          1  \n",
       "2  I bought this charger in Jul 2003 and it worke...      None          1  \n",
       "3  Check out Maha Energy's website. Their Powerex...      None          1  \n",
       "4  Reviewed quite a bit of the combo players and ...      None          1  "
      ]
     },
     "execution_count": 24,
     "metadata": {},
     "output_type": "execute_result"
    }
   ],
   "source": [
    "data_test['predicted'] = None\n",
    "data_test.loc[:,'incorrect']  = 1\n",
    "data_test.head()"
   ]
  },
  {
   "cell_type": "markdown",
   "metadata": {},
   "source": [
    "# Default Amazon Comprehend Sentiment Analysis"
   ]
  },
  {
   "cell_type": "markdown",
   "metadata": {},
   "source": [
    "## Loading"
   ]
  },
  {
   "cell_type": "code",
   "execution_count": 10,
   "metadata": {},
   "outputs": [
    {
     "data": {
      "text/plain": [
       "(400000, 5)"
      ]
     },
     "execution_count": 10,
     "metadata": {},
     "output_type": "execute_result"
    }
   ],
   "source": [
    "data_test.shape"
   ]
  },
  {
   "cell_type": "code",
   "execution_count": 12,
   "metadata": {},
   "outputs": [],
   "source": [
    "data_test = data_test.sample(5000)"
   ]
  },
  {
   "cell_type": "code",
   "execution_count": 13,
   "metadata": {},
   "outputs": [],
   "source": [
    "data_test.loc[:,'predicted'] = data_test.loc[:,'review'].apply(getComprehendSentiment)"
   ]
  },
  {
   "cell_type": "code",
   "execution_count": 14,
   "metadata": {},
   "outputs": [
    {
     "data": {
      "text/html": [
       "<div>\n",
       "<style scoped>\n",
       "    .dataframe tbody tr th:only-of-type {\n",
       "        vertical-align: middle;\n",
       "    }\n",
       "\n",
       "    .dataframe tbody tr th {\n",
       "        vertical-align: top;\n",
       "    }\n",
       "\n",
       "    .dataframe thead th {\n",
       "        text-align: right;\n",
       "    }\n",
       "</style>\n",
       "<table border=\"1\" class=\"dataframe\">\n",
       "  <thead>\n",
       "    <tr style=\"text-align: right;\">\n",
       "      <th></th>\n",
       "      <th>label</th>\n",
       "      <th>title</th>\n",
       "      <th>review</th>\n",
       "      <th>predicted</th>\n",
       "      <th>incorrect</th>\n",
       "    </tr>\n",
       "  </thead>\n",
       "  <tbody>\n",
       "    <tr>\n",
       "      <th>315933</th>\n",
       "      <td>1</td>\n",
       "      <td>counterfeit?</td>\n",
       "      <td>the batteries barely held a charge. One to thr...</td>\n",
       "      <td>1</td>\n",
       "      <td>1</td>\n",
       "    </tr>\n",
       "    <tr>\n",
       "      <th>330527</th>\n",
       "      <td>2</td>\n",
       "      <td>Awesome! Can't live without this stuff!</td>\n",
       "      <td>I love this stuff! I used to have a horrible t...</td>\n",
       "      <td>2</td>\n",
       "      <td>1</td>\n",
       "    </tr>\n",
       "    <tr>\n",
       "      <th>160858</th>\n",
       "      <td>1</td>\n",
       "      <td>waste of money</td>\n",
       "      <td>This CD is for you if you are a die hard Spide...</td>\n",
       "      <td>1</td>\n",
       "      <td>1</td>\n",
       "    </tr>\n",
       "    <tr>\n",
       "      <th>226132</th>\n",
       "      <td>1</td>\n",
       "      <td>Definately Not Like Morrowind</td>\n",
       "      <td>I was dissapointed that this wasn't like Morro...</td>\n",
       "      <td>1</td>\n",
       "      <td>1</td>\n",
       "    </tr>\n",
       "    <tr>\n",
       "      <th>281701</th>\n",
       "      <td>2</td>\n",
       "      <td>Pretty Cute Comedy</td>\n",
       "      <td>This isn't the funniest movie I've ever seen, ...</td>\n",
       "      <td>2</td>\n",
       "      <td>1</td>\n",
       "    </tr>\n",
       "    <tr>\n",
       "      <th>...</th>\n",
       "      <td>...</td>\n",
       "      <td>...</td>\n",
       "      <td>...</td>\n",
       "      <td>...</td>\n",
       "      <td>...</td>\n",
       "    </tr>\n",
       "    <tr>\n",
       "      <th>124740</th>\n",
       "      <td>1</td>\n",
       "      <td>not great</td>\n",
       "      <td>This is a typical book for the Dragonlance ser...</td>\n",
       "      <td>1</td>\n",
       "      <td>1</td>\n",
       "    </tr>\n",
       "    <tr>\n",
       "      <th>85054</th>\n",
       "      <td>1</td>\n",
       "      <td>Broke in 2 months, hideous customer service</td>\n",
       "      <td>My first unit was stolen at a car service plac...</td>\n",
       "      <td>1</td>\n",
       "      <td>1</td>\n",
       "    </tr>\n",
       "    <tr>\n",
       "      <th>265831</th>\n",
       "      <td>1</td>\n",
       "      <td>Not worth the money!!</td>\n",
       "      <td>A good lens, but save your dollars and buy the...</td>\n",
       "      <td>2</td>\n",
       "      <td>1</td>\n",
       "    </tr>\n",
       "    <tr>\n",
       "      <th>364079</th>\n",
       "      <td>2</td>\n",
       "      <td>Good guide for those interested in Mustang upg...</td>\n",
       "      <td>This book is basically a republishing of artic...</td>\n",
       "      <td>2</td>\n",
       "      <td>1</td>\n",
       "    </tr>\n",
       "    <tr>\n",
       "      <th>228509</th>\n",
       "      <td>2</td>\n",
       "      <td>A book that won't dissapoint you.</td>\n",
       "      <td>Awesome book! I learned more about the Holy Sp...</td>\n",
       "      <td>2</td>\n",
       "      <td>1</td>\n",
       "    </tr>\n",
       "  </tbody>\n",
       "</table>\n",
       "<p>5000 rows × 5 columns</p>\n",
       "</div>"
      ],
      "text/plain": [
       "        label                                              title  \\\n",
       "315933      1                                       counterfeit?   \n",
       "330527      2            Awesome! Can't live without this stuff!   \n",
       "160858      1                                     waste of money   \n",
       "226132      1                      Definately Not Like Morrowind   \n",
       "281701      2                                 Pretty Cute Comedy   \n",
       "...       ...                                                ...   \n",
       "124740      1                                          not great   \n",
       "85054       1        Broke in 2 months, hideous customer service   \n",
       "265831      1                              Not worth the money!!   \n",
       "364079      2  Good guide for those interested in Mustang upg...   \n",
       "228509      2                  A book that won't dissapoint you.   \n",
       "\n",
       "                                                   review  predicted  \\\n",
       "315933  the batteries barely held a charge. One to thr...          1   \n",
       "330527  I love this stuff! I used to have a horrible t...          2   \n",
       "160858  This CD is for you if you are a die hard Spide...          1   \n",
       "226132  I was dissapointed that this wasn't like Morro...          1   \n",
       "281701  This isn't the funniest movie I've ever seen, ...          2   \n",
       "...                                                   ...        ...   \n",
       "124740  This is a typical book for the Dragonlance ser...          1   \n",
       "85054   My first unit was stolen at a car service plac...          1   \n",
       "265831  A good lens, but save your dollars and buy the...          2   \n",
       "364079  This book is basically a republishing of artic...          2   \n",
       "228509  Awesome book! I learned more about the Holy Sp...          2   \n",
       "\n",
       "        incorrect  \n",
       "315933          1  \n",
       "330527          1  \n",
       "160858          1  \n",
       "226132          1  \n",
       "281701          1  \n",
       "...           ...  \n",
       "124740          1  \n",
       "85054           1  \n",
       "265831          1  \n",
       "364079          1  \n",
       "228509          1  \n",
       "\n",
       "[5000 rows x 5 columns]"
      ]
     },
     "execution_count": 14,
     "metadata": {},
     "output_type": "execute_result"
    }
   ],
   "source": [
    "data_test"
   ]
  },
  {
   "cell_type": "code",
   "execution_count": 15,
   "metadata": {},
   "outputs": [],
   "source": [
    "data_test.loc[data_test['predicted'] == data_test['label'],'incorrect'] = 0"
   ]
  },
  {
   "cell_type": "markdown",
   "metadata": {},
   "source": [
    "## Results"
   ]
  },
  {
   "cell_type": "code",
   "execution_count": 22,
   "metadata": {},
   "outputs": [
    {
     "name": "stdout",
     "output_type": "stream",
     "text": [
      "Accuracy is 81.64%\n"
     ]
    }
   ],
   "source": [
    "errors = data_test.incorrect.sum()\n",
    "accuracy = (data_test.shape[0]-errors)/data_test.shape[0]\n",
    "print(f\"Accuracy is {accuracy*100}%\")"
   ]
  },
  {
   "cell_type": "code",
   "execution_count": 24,
   "metadata": {},
   "outputs": [
    {
     "name": "stdout",
     "output_type": "stream",
     "text": [
      "Accuracy discarding 'MIXED' and 'NEUTRAL' results is 92.84%\n"
     ]
    }
   ],
   "source": [
    "errors = data_test.loc[data_test.predicted != 3, 'incorrect'].sum()\n",
    "accuracy = (data_test.shape[0]-errors)/data_test.shape[0]\n",
    "print(f\"Accuracy discarding 'MIXED' and 'NEUTRAL' results is {accuracy*100}%\")"
   ]
  },
  {
   "cell_type": "code",
   "execution_count": 25,
   "metadata": {},
   "outputs": [],
   "source": [
    "del data_test"
   ]
  },
  {
   "cell_type": "markdown",
   "metadata": {},
   "source": [
    "# Build Custom Classifier"
   ]
  },
  {
   "cell_type": "markdown",
   "metadata": {},
   "source": [
    "## Prepare Training File"
   ]
  },
  {
   "cell_type": "markdown",
   "metadata": {},
   "source": [
    "### Doesn't work"
   ]
  },
  {
   "cell_type": "code",
   "execution_count": 4,
   "metadata": {},
   "outputs": [],
   "source": [
    "file_name = 'train.csv'\n",
    "names=[\"label\", \"title\", \"review\"]\n",
    "data_train = getDataframeFromS3(file_name = file_name, names = names)"
   ]
  },
  {
   "cell_type": "code",
   "execution_count": 5,
   "metadata": {},
   "outputs": [],
   "source": [
    "data_train.label = data_train.label.replace(1, \"NEGATIVE\")\n",
    "data_train.label = data_train.label.replace(2, \"POSITIVE\")\n",
    "data_train.review = data_train.review.str.replace(\",\", \"\")"
   ]
  },
  {
   "cell_type": "code",
   "execution_count": 6,
   "metadata": {},
   "outputs": [
    {
     "data": {
      "text/html": [
       "<div>\n",
       "<style scoped>\n",
       "    .dataframe tbody tr th:only-of-type {\n",
       "        vertical-align: middle;\n",
       "    }\n",
       "\n",
       "    .dataframe tbody tr th {\n",
       "        vertical-align: top;\n",
       "    }\n",
       "\n",
       "    .dataframe thead th {\n",
       "        text-align: right;\n",
       "    }\n",
       "</style>\n",
       "<table border=\"1\" class=\"dataframe\">\n",
       "  <thead>\n",
       "    <tr style=\"text-align: right;\">\n",
       "      <th></th>\n",
       "      <th>label</th>\n",
       "      <th>title</th>\n",
       "      <th>review</th>\n",
       "    </tr>\n",
       "  </thead>\n",
       "  <tbody>\n",
       "    <tr>\n",
       "      <th>0</th>\n",
       "      <td>POSITIVE</td>\n",
       "      <td>Stuning even for the non-gamer</td>\n",
       "      <td>This sound track was beautiful! It paints the ...</td>\n",
       "    </tr>\n",
       "    <tr>\n",
       "      <th>1</th>\n",
       "      <td>POSITIVE</td>\n",
       "      <td>The best soundtrack ever to anything.</td>\n",
       "      <td>I'm reading a lot of reviews saying that this ...</td>\n",
       "    </tr>\n",
       "    <tr>\n",
       "      <th>2</th>\n",
       "      <td>POSITIVE</td>\n",
       "      <td>Amazing!</td>\n",
       "      <td>This soundtrack is my favorite music of all ti...</td>\n",
       "    </tr>\n",
       "    <tr>\n",
       "      <th>3</th>\n",
       "      <td>POSITIVE</td>\n",
       "      <td>Excellent Soundtrack</td>\n",
       "      <td>I truly like this soundtrack and I enjoy video...</td>\n",
       "    </tr>\n",
       "    <tr>\n",
       "      <th>4</th>\n",
       "      <td>POSITIVE</td>\n",
       "      <td>Remember, Pull Your Jaw Off The Floor After He...</td>\n",
       "      <td>If you've played the game you know how divine ...</td>\n",
       "    </tr>\n",
       "  </tbody>\n",
       "</table>\n",
       "</div>"
      ],
      "text/plain": [
       "      label                                              title  \\\n",
       "0  POSITIVE                     Stuning even for the non-gamer   \n",
       "1  POSITIVE              The best soundtrack ever to anything.   \n",
       "2  POSITIVE                                           Amazing!   \n",
       "3  POSITIVE                               Excellent Soundtrack   \n",
       "4  POSITIVE  Remember, Pull Your Jaw Off The Floor After He...   \n",
       "\n",
       "                                              review  \n",
       "0  This sound track was beautiful! It paints the ...  \n",
       "1  I'm reading a lot of reviews saying that this ...  \n",
       "2  This soundtrack is my favorite music of all ti...  \n",
       "3  I truly like this soundtrack and I enjoy video...  \n",
       "4  If you've played the game you know how divine ...  "
      ]
     },
     "execution_count": 6,
     "metadata": {},
     "output_type": "execute_result"
    }
   ],
   "source": [
    "data_train.head()"
   ]
  },
  {
   "cell_type": "markdown",
   "metadata": {},
   "source": [
    "### Try with normalized text"
   ]
  },
  {
   "cell_type": "code",
   "execution_count": 4,
   "metadata": {},
   "outputs": [],
   "source": [
    "file_name = 'X_train.csv'\n",
    "names=[\"review\"]\n",
    "data_train = getDataframeFromS3(file_name = file_name, names = names)"
   ]
  },
  {
   "cell_type": "code",
   "execution_count": 5,
   "metadata": {},
   "outputs": [],
   "source": [
    "file_name = 'y_train.csv'\n",
    "names=[\"label\"]\n",
    "data_train[\"label\"] = getDataframeFromS3(file_name = file_name, names = names)[\"label\"]"
   ]
  },
  {
   "cell_type": "code",
   "execution_count": 19,
   "metadata": {},
   "outputs": [],
   "source": [
    "# Comprehend only supports 1M samples\n",
    "MAX_DOCS = 1_000_000\n",
    "_, data_train = train_test_split(data_train, test_size=MAX_DOCS, random_state=0, stratify = data_train['label'])"
   ]
  },
  {
   "cell_type": "code",
   "execution_count": 23,
   "metadata": {},
   "outputs": [
    {
     "data": {
      "text/plain": [
       "(1000000, 2)"
      ]
     },
     "execution_count": 23,
     "metadata": {},
     "output_type": "execute_result"
    }
   ],
   "source": [
    "data_train.label = data_train.label.replace(0, \"NEGATIVE\")\n",
    "data_train.label = data_train.label.replace(1, \"POSITIVE\")\n",
    "data_train = data_train[[\"label\", \"review\"]]\n",
    "data_train.shape"
   ]
  },
  {
   "cell_type": "code",
   "execution_count": 20,
   "metadata": {},
   "outputs": [
    {
     "data": {
      "text/plain": [
       "1    500000\n",
       "0    500000\n",
       "Name: label, dtype: int64"
      ]
     },
     "execution_count": 20,
     "metadata": {},
     "output_type": "execute_result"
    }
   ],
   "source": [
    "data_train.label.value_counts()"
   ]
  },
  {
   "cell_type": "code",
   "execution_count": 22,
   "metadata": {},
   "outputs": [
    {
     "data": {
      "text/html": [
       "<div>\n",
       "<style scoped>\n",
       "    .dataframe tbody tr th:only-of-type {\n",
       "        vertical-align: middle;\n",
       "    }\n",
       "\n",
       "    .dataframe tbody tr th {\n",
       "        vertical-align: top;\n",
       "    }\n",
       "\n",
       "    .dataframe thead th {\n",
       "        text-align: right;\n",
       "    }\n",
       "</style>\n",
       "<table border=\"1\" class=\"dataframe\">\n",
       "  <thead>\n",
       "    <tr style=\"text-align: right;\">\n",
       "      <th></th>\n",
       "      <th>label</th>\n",
       "      <th>review</th>\n",
       "    </tr>\n",
       "  </thead>\n",
       "  <tbody>\n",
       "    <tr>\n",
       "      <th>2648109</th>\n",
       "      <td>POSITIVE</td>\n",
       "      <td>this item perfect edition our bathroom compact...</td>\n",
       "    </tr>\n",
       "    <tr>\n",
       "      <th>1083475</th>\n",
       "      <td>NEGATIVE</td>\n",
       "      <td>talk crab and dog that type the computer and d...</td>\n",
       "    </tr>\n",
       "    <tr>\n",
       "      <th>3433029</th>\n",
       "      <td>POSITIVE</td>\n",
       "      <td>opinion the story start out bite slow but the ...</td>\n",
       "    </tr>\n",
       "    <tr>\n",
       "      <th>2830597</th>\n",
       "      <td>POSITIVE</td>\n",
       "      <td>author royce adam again this action pack story...</td>\n",
       "    </tr>\n",
       "    <tr>\n",
       "      <th>1738281</th>\n",
       "      <td>NEGATIVE</td>\n",
       "      <td>when saw the review title arrive break twice t...</td>\n",
       "    </tr>\n",
       "  </tbody>\n",
       "</table>\n",
       "</div>"
      ],
      "text/plain": [
       "            label                                             review\n",
       "2648109  POSITIVE  this item perfect edition our bathroom compact...\n",
       "1083475  NEGATIVE  talk crab and dog that type the computer and d...\n",
       "3433029  POSITIVE  opinion the story start out bite slow but the ...\n",
       "2830597  POSITIVE  author royce adam again this action pack story...\n",
       "1738281  NEGATIVE  when saw the review title arrive break twice t..."
      ]
     },
     "execution_count": 22,
     "metadata": {},
     "output_type": "execute_result"
    }
   ],
   "source": [
    "data_train.head()"
   ]
  },
  {
   "cell_type": "markdown",
   "metadata": {},
   "source": [
    "## Save Training File to S3"
   ]
  },
  {
   "cell_type": "code",
   "execution_count": 24,
   "metadata": {},
   "outputs": [
    {
     "data": {
      "text/plain": [
       "{'ResponseMetadata': {'RequestId': 'E3833BEC5DFE35C9',\n",
       "  'HostId': '26LOiGKLBKuWUpVb77m04MQEUdR/Khkwdthuc2D6od3Jg+gfGEW1Naka1LROJ5Mzd5UwcJxOaOo=',\n",
       "  'HTTPStatusCode': 200,\n",
       "  'HTTPHeaders': {'x-amz-id-2': '26LOiGKLBKuWUpVb77m04MQEUdR/Khkwdthuc2D6od3Jg+gfGEW1Naka1LROJ5Mzd5UwcJxOaOo=',\n",
       "   'x-amz-request-id': 'E3833BEC5DFE35C9',\n",
       "   'date': 'Mon, 07 Sep 2020 00:57:54 GMT',\n",
       "   'etag': '\"25573ddfd32fb1e019d3f0e5c0b7c932\"',\n",
       "   'content-length': '0',\n",
       "   'server': 'AmazonS3'},\n",
       "  'RetryAttempts': 0},\n",
       " 'ETag': '\"25573ddfd32fb1e019d3f0e5c0b7c932\"'}"
      ]
     },
     "execution_count": 24,
     "metadata": {},
     "output_type": "execute_result"
    }
   ],
   "source": [
    "df = data_train\n",
    "fileName = \"amazon-comprehend-train-data.csv\"\n",
    "# Write to a file in S3\n",
    "csv_buffer = io.StringIO()\n",
    "df.to_csv(csv_buffer, header=False, index=False)\n",
    "s3_resource = boto3.resource('s3')\n",
    "s3_resource.Object(bucket, fileName).put(Body=csv_buffer.getvalue())"
   ]
  },
  {
   "cell_type": "markdown",
   "metadata": {},
   "source": [
    "## Prepare request to create custom classifier"
   ]
  },
  {
   "cell_type": "code",
   "execution_count": 25,
   "metadata": {},
   "outputs": [
    {
     "data": {
      "text/plain": [
       "{'DocumentClassifierArn': 'arn:aws:comprehend:us-east-1:197812454142:document-classifier/amazon-reviews-custom-classifier',\n",
       " 'ResponseMetadata': {'RequestId': 'ba0e44f5-8150-49d4-bc9d-9e4f45e78ffc',\n",
       "  'HTTPStatusCode': 200,\n",
       "  'HTTPHeaders': {'x-amzn-requestid': 'ba0e44f5-8150-49d4-bc9d-9e4f45e78ffc',\n",
       "   'content-type': 'application/x-amz-json-1.1',\n",
       "   'content-length': '122',\n",
       "   'date': 'Mon, 07 Sep 2020 00:57:56 GMT'},\n",
       "  'RetryAttempts': 0}}"
      ]
     },
     "execution_count": 25,
     "metadata": {},
     "output_type": "execute_result"
    }
   ],
   "source": [
    "comprehend.create_document_classifier(\n",
    "    DocumentClassifierName='amazon-reviews-custom-classifier-sample',\n",
    "    DataAccessRoleArn='arn:aws:iam::197812454142:role/role_comprehend_s3',\n",
    "    InputDataConfig={\n",
    "        'S3Uri': f's3://{bucket}/{fileName}'\n",
    "    },\n",
    "    LanguageCode='en',\n",
    "    Mode='MULTI_CLASS'\n",
    ")"
   ]
  },
  {
   "cell_type": "markdown",
   "metadata": {},
   "source": [
    "## Check results in Amazon Comprehend."
   ]
  },
  {
   "cell_type": "markdown",
   "metadata": {},
   "source": [
    "Results are written over a file in S3.\n",
    "\n",
    "Accuracy: 93.37%\n",
    "\n",
    "Precision: 93.38%\n",
    "\n",
    "Recall: 93.37%\n",
    "\n",
    "F1 Score: 93.00%\n",
    " "
   ]
  },
  {
   "cell_type": "code",
   "execution_count": null,
   "metadata": {},
   "outputs": [],
   "source": []
  }
 ],
 "metadata": {
  "instance_type": "ml.m5.large",
  "kernelspec": {
   "display_name": "Python 3",
   "language": "python",
   "name": "python3"
  },
  "language_info": {
   "codemirror_mode": {
    "name": "ipython",
    "version": 3
   },
   "file_extension": ".py",
   "mimetype": "text/x-python",
   "name": "python",
   "nbconvert_exporter": "python",
   "pygments_lexer": "ipython3",
   "version": "3.7.7-final"
  }
 },
 "nbformat": 4,
 "nbformat_minor": 4
}